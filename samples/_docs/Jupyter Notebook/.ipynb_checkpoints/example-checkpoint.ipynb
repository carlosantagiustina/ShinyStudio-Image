{
 "cells": [
  {
   "cell_type": "markdown",
   "metadata": {},
   "source": [
    " Use VS code to author Python scripts and easily convert them to Jupyter notebooks.\n",
    "\n",
    " Afterward, convert the Jupyter notebook (.ipynb) to HTML so it is viewable in Shiny Server.\n",
    "\n",
    " `jupyter nbconvert *.ipynb --to html -y --template full --execute`\n",
    "\n",
    " See more: https://code.visualstudio.com/docs/python/jupyter-support\n",
    "\n",
    " This document is rendered on a schedule.\n",
    "\n",
    " To adjust the schedule, access Cronicle at https://localhost:8443"
   ]
  },
  {
   "cell_type": "code",
   "execution_count": 2,
   "metadata": {},
   "outputs": [
    {
     "name": "stdout",
     "output_type": "stream",
     "text": [
      "Last rendered (UTC): 2019-11-15 04:16:53.042374\n"
     ]
    }
   ],
   "source": [
    "\n",
    "from datetime import datetime\n",
    " \n",
    "print('Last rendered (UTC): ' + str(datetime.utcnow()))\n"
   ]
  }
 ],
 "metadata": {
  "file_extension": ".py",
  "kernelspec": {
   "display_name": "Python 3",
   "language": "python",
   "name": "python3"
  },
  "language_info": {
   "codemirror_mode": {
    "name": "ipython",
    "version": 3
   },
   "file_extension": ".py",
   "mimetype": "text/x-python",
   "name": "python",
   "nbconvert_exporter": "python",
   "pygments_lexer": "ipython3",
   "version": "3.7.3"
  },
  "mimetype": "text/x-python",
  "name": "python",
  "npconvert_exporter": "python",
  "pygments_lexer": "ipython3",
  "version": 3
 },
 "nbformat": 4,
 "nbformat_minor": 2
}
